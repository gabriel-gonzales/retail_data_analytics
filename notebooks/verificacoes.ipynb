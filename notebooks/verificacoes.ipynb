{
 "cells": [
  {
   "cell_type": "code",
   "execution_count": 6,
   "metadata": {},
   "outputs": [
    {
     "name": "stderr",
     "output_type": "stream",
     "text": [
      "                                                                                \r"
     ]
    },
    {
     "name": "stdout",
     "output_type": "stream",
     "text": [
      "Esquema do DataFrame:\n",
      "root\n",
      " |-- Store: integer (nullable = true)\n",
      " |-- Dept: integer (nullable = true)\n",
      " |-- Date: string (nullable = true)\n",
      " |-- Weekly_Sales: double (nullable = true)\n",
      " |-- IsHoliday: boolean (nullable = true)\n",
      "\n",
      "Primeiras linhas do DataFrame:\n",
      "+-----+----+----------+------------+---------+\n",
      "|Store|Dept|      Date|Weekly_Sales|IsHoliday|\n",
      "+-----+----+----------+------------+---------+\n",
      "|    1|   1|05/02/2010|     24924.5|    false|\n",
      "|    1|   1|12/02/2010|    46039.49|     true|\n",
      "|    1|   1|19/02/2010|    41595.55|    false|\n",
      "|    1|   1|26/02/2010|    19403.54|    false|\n",
      "|    1|   1|05/03/2010|     21827.9|    false|\n",
      "|    1|   1|12/03/2010|    21043.39|    false|\n",
      "|    1|   1|19/03/2010|    22136.64|    false|\n",
      "|    1|   1|26/03/2010|    26229.21|    false|\n",
      "|    1|   1|02/04/2010|    57258.43|    false|\n",
      "|    1|   1|09/04/2010|    42960.91|    false|\n",
      "|    1|   1|16/04/2010|    17596.96|    false|\n",
      "|    1|   1|23/04/2010|    16145.35|    false|\n",
      "|    1|   1|30/04/2010|    16555.11|    false|\n",
      "|    1|   1|07/05/2010|    17413.94|    false|\n",
      "|    1|   1|14/05/2010|    18926.74|    false|\n",
      "|    1|   1|21/05/2010|    14773.04|    false|\n",
      "|    1|   1|28/05/2010|    15580.43|    false|\n",
      "|    1|   1|04/06/2010|    17558.09|    false|\n",
      "|    1|   1|11/06/2010|    16637.62|    false|\n",
      "|    1|   1|18/06/2010|    16216.27|    false|\n",
      "+-----+----+----------+------------+---------+\n",
      "only showing top 20 rows\n",
      "\n",
      "Colunas disponíveis:\n",
      "['Store', 'Dept', 'Date', 'Weekly_Sales', 'IsHoliday']\n"
     ]
    }
   ],
   "source": [
    "# Importar bibliotecas\n",
    "from pyspark.sql import SparkSession\n",
    "\n",
    "# Inicializar Spark\n",
    "spark = SparkSession.builder.appName(\"Retail Sales Analysis\").getOrCreate()\n",
    "\n",
    "# Carregar os dados\n",
    "sales_df = spark.read.csv('../data/raw/sales.csv', header=True, inferSchema=True)\n",
    "\n",
    "# Verificar o esquema\n",
    "print(\"Esquema do DataFrame:\")\n",
    "sales_df.printSchema()\n",
    "\n",
    "# Exibir as primeiras linhas\n",
    "print(\"Primeiras linhas do DataFrame:\")\n",
    "sales_df.show()\n",
    "\n",
    "# Verificar as colunas disponíveis\n",
    "print(\"Colunas disponíveis:\")\n",
    "print(sales_df.columns)\n"
   ]
  },
  {
   "cell_type": "code",
   "execution_count": 7,
   "metadata": {},
   "outputs": [
    {
     "name": "stderr",
     "output_type": "stream",
     "text": [
      "24/09/23 00:06:14 WARN SparkStringUtils: Truncated the string representation of a plan since it was too large. This behavior can be adjusted by setting 'spark.sql.debug.maxToStringFields'.\n",
      "[Stage 3:==============>                                            (1 + 3) / 4]\r"
     ]
    },
    {
     "name": "stdout",
     "output_type": "stream",
     "text": [
      "+-------+------------------+------------------+----------+------------------+\n",
      "|summary|             Store|              Dept|      Date|      Weekly_Sales|\n",
      "+-------+------------------+------------------+----------+------------------+\n",
      "|  count|            421570|            421570|    421570|            421570|\n",
      "|   mean|22.200545579619043| 44.26031738501317|      NULL|15981.258123467534|\n",
      "| stddev| 12.78529738990308|30.492054015786014|      NULL|22711.183519163187|\n",
      "|    min|                 1|                 1|01/04/2011|          -4988.94|\n",
      "|    max|                45|                99|31/12/2010|         693099.36|\n",
      "+-------+------------------+------------------+----------+------------------+\n",
      "\n"
     ]
    },
    {
     "name": "stderr",
     "output_type": "stream",
     "text": [
      "                                                                                \r"
     ]
    }
   ],
   "source": [
    "# Resumo estatístico\n",
    "\n",
    "sales_df.describe().show()\n"
   ]
  },
  {
   "cell_type": "code",
   "execution_count": 8,
   "metadata": {},
   "outputs": [
    {
     "name": "stderr",
     "output_type": "stream",
     "text": [
      "                                                                                \r"
     ]
    },
    {
     "name": "stdout",
     "output_type": "stream",
     "text": [
      "Número de Lojas: 45\n",
      "Número de Departamentos: 81\n"
     ]
    }
   ],
   "source": [
    "# Contagem de lojas e departamentos únicos\n",
    "\n",
    "num_stores = sales_df.select(\"Store\").distinct().count()\n",
    "num_depts = sales_df.select(\"Dept\").distinct().count()\n",
    "\n",
    "print(f\"Número de Lojas: {num_stores}\")\n",
    "print(f\"Número de Departamentos: {num_depts}\")\n"
   ]
  }
 ],
 "metadata": {
  "kernelspec": {
   "display_name": "env",
   "language": "python",
   "name": "python3"
  },
  "language_info": {
   "codemirror_mode": {
    "name": "ipython",
    "version": 3
   },
   "file_extension": ".py",
   "mimetype": "text/x-python",
   "name": "python",
   "nbconvert_exporter": "python",
   "pygments_lexer": "ipython3",
   "version": "3.10.12"
  }
 },
 "nbformat": 4,
 "nbformat_minor": 2
}
